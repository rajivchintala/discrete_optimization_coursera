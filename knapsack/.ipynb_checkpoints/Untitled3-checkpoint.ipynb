{
 "cells": [
  {
   "cell_type": "code",
   "execution_count": null,
   "metadata": {
    "collapsed": true
   },
   "outputs": [],
   "source": [
    "# %load solver.py\n",
    "#!/usr/bin/python\n",
    "\n",
    "from collections import namedtuple\n",
    "Item = namedtuple(\"Item\", ['index', 'value', 'weight'])\n",
    "\n",
    "def solve_it(input_data):\n",
    "    # Modify this code to run your optimization algorithm\n",
    "\n",
    "    print \"input_data = \" + input_data\n",
    "    \n",
    "    # parse the input\n",
    "    lines = input_data.split('\\n')\n",
    "\n",
    "    firstLine = lines[0].split()\n",
    "    item_count = int(firstLine[0])\n",
    "    capacity = int(firstLine[1])\n",
    "\n",
    "    items = []\n",
    "\n",
    "    for i in range(1, item_count+1):\n",
    "        line = lines[i]\n",
    "        parts = line.split()\n",
    "        items.append(Item(i-1, int(parts[0]), int(parts[1])))\n",
    "\n",
    "    # a trivial greedy algorithm for filling the knapsack\n",
    "    # it takes items in-order until the knapsack is full\n",
    "    value = 0\n",
    "    weight = 0\n",
    "    taken = [0]*len(items)\n",
    "\n",
    "    for item in items:\n",
    "        if weight + item.weight <= capacity:\n",
    "            taken[item.index] = 1\n",
    "            value += item.value\n",
    "            weight += item.weight\n",
    "    \n",
    "    # prepare the solution in the specified output format\n",
    "    output_data = str(value) + ' ' + str(0) + '\\n'\n",
    "    output_data += ' '.join(map(str, taken))\n",
    "    return output_data\n",
    "\n",
    "\n",
    "if __name__ == '__main__':\n",
    "    import sys\n",
    "    if len(sys.argv) > 1:\n",
    "        file_location = sys.argv[1].strip()\n",
    "        with open(file_location, 'r') as input_data_file:\n",
    "            input_data = input_data_file.read()\n",
    "        print(solve_it(input_data))\n",
    "    else:\n",
    "        print('This test requires an input file.  Please select one from the data directory. (i.e. python solver.py ./data/ks_4_0)')\n",
    "\n"
   ]
  },
  {
   "cell_type": "code",
   "execution_count": null,
   "metadata": {
    "collapsed": true
   },
   "outputs": [],
   "source": []
  }
 ],
 "metadata": {
  "anaconda-cloud": {},
  "kernelspec": {
   "display_name": "Python [conda env:py27]",
   "language": "python",
   "name": "conda-env-py27-py"
  },
  "language_info": {
   "codemirror_mode": {
    "name": "ipython",
    "version": 2
   },
   "file_extension": ".py",
   "mimetype": "text/x-python",
   "name": "python",
   "nbconvert_exporter": "python",
   "pygments_lexer": "ipython2",
   "version": "2.7.12"
  }
 },
 "nbformat": 4,
 "nbformat_minor": 1
}
